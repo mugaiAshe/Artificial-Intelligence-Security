{
 "cells": [
  {
   "cell_type": "code",
   "execution_count": 1,
   "metadata": {},
   "outputs": [
    {
     "name": "stderr",
     "output_type": "stream",
     "text": [
      "c:\\Users\\Administrator\\AppData\\Local\\Programs\\Python\\Python38\\lib\\site-packages\\tqdm\\auto.py:21: TqdmWarning: IProgress not found. Please update jupyter and ipywidgets. See https://ipywidgets.readthedocs.io/en/stable/user_install.html\n",
      "  from .autonotebook import tqdm as notebook_tqdm\n",
      "c:\\Users\\Administrator\\AppData\\Local\\Programs\\Python\\Python38\\lib\\site-packages\\torchvision\\io\\image.py:13: UserWarning: Failed to load image Python extension: Could not find module 'C:\\Users\\Administrator\\AppData\\Local\\Programs\\Python\\Python38\\Lib\\site-packages\\torchvision\\image.pyd' (or one of its dependencies). Try using the full path with constructor syntax.\n",
      "  warn(f\"Failed to load image Python extension: {e}\")\n"
     ]
    },
    {
     "name": "stdout",
     "output_type": "stream",
     "text": [
      "AlexNet(\n",
      "  (conv1): Conv2d(1, 6, kernel_size=(5, 5), stride=(1, 1), padding=(2, 2))\n",
      "  (relu1): ReLU(inplace=True)\n",
      "  (max_pool1): MaxPool2d(kernel_size=2, stride=2, padding=0, dilation=1, ceil_mode=False)\n",
      "  (relu2): ReLU(inplace=True)\n",
      "  (conv2): Conv2d(6, 16, kernel_size=(5, 5), stride=(1, 1), padding=(2, 2))\n",
      "  (max_pool2): MaxPool2d(kernel_size=2, stride=2, padding=0, dilation=1, ceil_mode=False)\n",
      "  (flatten1): Flatten(start_dim=1, end_dim=-1)\n",
      "  (linear1): Linear(in_features=784, out_features=120, bias=True)\n",
      "  (relu3): ReLU(inplace=True)\n",
      "  (linear2): Linear(in_features=120, out_features=84, bias=True)\n",
      "  (relu4): ReLU(inplace=True)\n",
      "  (linear3): Linear(in_features=84, out_features=10, bias=True)\n",
      ")\n"
     ]
    }
   ],
   "source": [
    "import torch\n",
    "import os\n",
    "import torch.nn as nn\n",
    "import torch.optim as optim\n",
    "import torchvision\n",
    "import torchvision.transforms as transforms\n",
    "from torchvision.datasets import MNIST\n",
    "from torch.utils.data import DataLoader\n",
    "import matplotlib.pyplot as plt\n",
    "import torch.nn.functional as F\n",
    "from tqdm import tqdm\n",
    "from tensorboardX import SummaryWriter\n",
    "\n",
    "# 定义自己想用的网络\n",
    "class AlexNet(nn.Module):\n",
    "    def __init__(self):\n",
    "        super(AlexNet, self).__init__()\n",
    "        # 2维卷积 参数： 输入通道数， 输出通道数， 卷积核大小， 步长， 边界填0数\n",
    "        self.conv1 = torch.nn.Conv2d(in_channels=1, out_channels=6, kernel_size=5, stride=1, padding=2)\n",
    "        # relu 激活函数\n",
    "        self.relu1 = nn.ReLU(inplace=True)\n",
    "        # 最大池化 参数：池化核大小， 步长\n",
    "        self.max_pool1 = torch.nn.MaxPool2d(kernel_size=2, stride=2)\n",
    "        self.relu2 = nn.ReLU(inplace=True)\n",
    "        self.conv2 = torch.nn.Conv2d(in_channels=6, out_channels=16, kernel_size=5, stride=1, padding=2)\n",
    "        self.max_pool2 = torch.nn.MaxPool2d(kernel_size=2, stride=2)\n",
    "        self.flatten1 = nn.Flatten(start_dim=1, end_dim=-1)\n",
    "        # 全连接层 参数： 输入特征长度， 输出特征长度\n",
    "        self.linear1 = torch.nn.Linear(in_features=16*7*7, out_features=120)\n",
    "        self.relu3 = nn.ReLU(inplace=True)\n",
    "        self.linear2 = torch.nn.Linear(in_features=120, out_features=84)\n",
    "        self.relu4 = nn.ReLU(inplace=True)\n",
    "        self.linear3 = torch.nn.Linear(in_features=84, out_features=10)\n",
    "        \n",
    "    def forward(self, x):\n",
    "        x = self.conv1(x)\n",
    "        x = self.relu1(x)\n",
    "        x = self.max_pool1(x)\n",
    "        x = self.relu2(x)\n",
    "        x = self.conv2(x)\n",
    "        x = self.max_pool2(x)\n",
    "        # 将数据的shape从 B C H W -> B C HW  \n",
    "        x = self.flatten1(x)\n",
    "        x = self.linear1(x)\n",
    "        x = self.relu3(x)\n",
    "        x = self.linear2(x)\n",
    "        x = self.relu4(x)\n",
    "        y = self.linear3(x)\n",
    "        return y\n",
    "\n",
    "# 设置超参数\n",
    "num_epochs = 2\n",
    "learning_rate = 0.001\n",
    "\n",
    "# 学习率衰减系数\n",
    "weight_decay = 5e-4\n",
    "# 训练集的batchsize\n",
    "batch_size_train = 64\n",
    "# 测试集的batchsize\n",
    "batch_size_test = 64\n",
    "\n",
    "# 构造训练数据集trian_loader(dataset->dataloader)\n",
    "train_loader = torch.utils.data.DataLoader(\n",
    "    torchvision.datasets.MNIST('./data/', train=True, download=True,\n",
    "                               transform=torchvision.transforms.Compose([\n",
    "                                   torchvision.transforms.ToTensor(),\n",
    "                                   torchvision.transforms.Normalize(\n",
    "                                       (0.1307,), (0.3081,))\n",
    "                               ])),\n",
    "    batch_size=batch_size_train, shuffle=True)\n",
    "# 构造测试数据集test_loader(dataset->dataloader)\n",
    "test_loader = torch.utils.data.DataLoader(\n",
    "    torchvision.datasets.MNIST('./data/', train=False, download=True,\n",
    "                               transform=torchvision.transforms.Compose([\n",
    "                                   torchvision.transforms.ToTensor(),\n",
    "                                   torchvision.transforms.Normalize(\n",
    "                                       (0.1307,), (0.3081,))\n",
    "                               ])),\n",
    "    batch_size=batch_size_test, shuffle=True)\n",
    "\n",
    "model = AlexNet()\n",
    "print(model)"
   ]
  },
  {
   "cell_type": "code",
   "execution_count": 2,
   "metadata": {},
   "outputs": [],
   "source": [
    "criterion = nn.CrossEntropyLoss()\n",
    "losses = [] #用于保存训练过程中的 loss 值\n",
    "acces = []\n",
    "\n",
    "def train(model, total_epochs, train_dataloader, test_dataloader, optim, save_dir, writer):\n",
    "    model.train()\n",
    "    best_acc = 0.0\n",
    "    step_train = 0\n",
    "    firststep = 0\n",
    "    for epoch in range(num_epochs):\n",
    "        dataloader = tqdm(train_dataloader)\n",
    "        dataloader.set_description('epoch: {}/{}'.format(epoch + 1, num_epochs))\n",
    "        for i, data in enumerate(dataloader):\n",
    "            # 前向传播\n",
    "            x_data = data[0]\n",
    "            y_data = data[1]\n",
    "            outs = model(x_data)\n",
    "            acc = 0\n",
    "            loss = F.cross_entropy(outs, y_data)\n",
    "            # 计算每个batch的loss平均值\n",
    "            avg_loss = torch.mean(loss)\n",
    "            \n",
    "            # 获取预测的标签\n",
    "            preds = torch.argmax(outs, dim = 1)\n",
    "            # 计算每个batchsize的acc\n",
    "            acc = torch.sum(preds == y_data)/preds.shape[0]\n",
    "\n",
    "            # 打印训练过程\n",
    "            if i % 100 ==0:\n",
    "                step_train += 1\n",
    "                # scalar组件\n",
    "                writer.add_scalar(tag=\"train/loss\", scalar_value=avg_loss, global_step=step_train)\n",
    "                writer.add_scalar(tag=\"train/acc\", scalar_value=acc, global_step=step_train)\n",
    "\n",
    "                losses.append(avg_loss.detach().numpy())\n",
    "                acces.append(acc.detach().numpy())\n",
    "                # print(\"epoch: {}, batch_id: {}, loss is: {}, acc is: {}\".format(epoch_id, batch_id, loss.detach().numpy(), acc.detach().numpy()))\n",
    "\n",
    "            # 反向传播和优化\n",
    "            avg_loss.backward()\n",
    "            optim.step()\n",
    "\n",
    "            writer.add_scalar(tag=\"train/loss\", scalar_value=avg_loss, global_step=step_train)\n",
    "            \n",
    "            # losses.append(model .detach().numpy())\n",
    "            if firststep==0:\n",
    "                firststep=1\n",
    "                tip = 0\n",
    "                for parms in model.parameters():\n",
    "                    tip += 1\n",
    "                    if tip ==1:\n",
    "                        filter1 = parms.grad\n",
    "                    if tip ==3: #只有conv层可以可视化，maxpooling层和relu层不能可视化\n",
    "                        filter3 = parms.grad\n",
    "                \n",
    "\n",
    "                torch.save({\"conv1\":filter1, \"conv2\":filter3},\"./grad\")\n",
    "\n",
    "            optim.zero_grad()\n",
    "\n",
    "            dataloader.set_postfix(loss='{:.4f}'.format(loss.detach().numpy()), acc='{:.4f}'.format(acc.detach().numpy()))\n",
    "                \n",
    "        # 保存每轮epoch的模型\n",
    "        save_model_dir = save_dir +\"/model{}\".format(epoch+1)+\".pth\"\n",
    "        # 保存的模型\n",
    "        torch.save(model.state_dict(),save_model_dir )\n",
    "        print(\"model is saved in: \"+str(save_model_dir))\n",
    "\n",
    "        # eval方法\n",
    "        val_acc = eval(model, test_dataloader, epoch, writer)\n",
    "        if val_acc > best_acc:\n",
    "            # 保存最佳模型\n",
    "            save_model_dir = save_dir +\"/best_model\"+\".pth\"\n",
    "            # 保存模型\n",
    "            torch.save(model.state_dict(), save_model_dir )\n",
    "            print(\"best_model is saved in: \"+str(save_model_dir))\n",
    "            best_acc = val_acc\n",
    "            print(\"best_acc: \"+str(best_acc.detach().numpy()))\n",
    "\n",
    "            "
   ]
  },
  {
   "cell_type": "code",
   "execution_count": 3,
   "metadata": {},
   "outputs": [],
   "source": [
    "def eval(model, test_dataloader, epoch_id, writer):\n",
    "    val_sums = []\n",
    "    # 将模型设置为验证模式，这样就不会计算梯度\n",
    "    model.eval()\n",
    "    dataloader = tqdm(test_dataloader)\n",
    "    dataloader.set_description('val')\n",
    "    # 获取dataloader的数据\n",
    "    for batch_id, data in enumerate(dataloader):\n",
    "        # 获取第一个数据，即图像的tensor\n",
    "        x_data = data[0]\n",
    "        # 获取第二个数据，即图像的类别tensor\n",
    "        y_data = data[1]\n",
    "        # 将图像放入模型前向计算，并获取预测结果\n",
    "        outs = model(x_data)\n",
    "        \n",
    "        # 获取预测结果的分类类别\n",
    "        preds = torch.argmax(outs, dim = 1)\n",
    "        # 计算预测准确的数量\n",
    "        sums = torch.sum(preds == y_data)\n",
    "        # 把每个batch的预测准确数量加入到数组中，便于后续计算acc\n",
    "        val_sums.append(sums)\n",
    "        \n",
    "    # 添加验证集的图像\n",
    "    # 将标签转为numpy类型\n",
    "    tag = preds[epoch_id].detach().numpy()\n",
    "    # print('tag:', tag)\n",
    "    # 获取第epoch_id的图像tensor\n",
    "    img = x_data[epoch_id,:,:,:]\n",
    "    # 将tensor从 C H W -> H W C\n",
    "    img = img.permute(1,2,0)\n",
    "    writer.add_image(tag=\"数字: \"+str(tag), global_step=epoch_id, img_tensor=img[:,:,0], dataformats='HW')\n",
    "\n",
    "    # 添加验证集的acc变化\n",
    "    # 计算acc，数组里预测准确数量总和除以数据总量\n",
    "    val_acc = sum(val_sums)/len(test_dataloader.dataset)\n",
    "    # 将特定图像加入到tensorboard\n",
    "    writer.add_scalar(tag=\"val/acc\", global_step=epoch_id, scalar_value=val_acc)\n",
    "    print(\"batch_id: {}, acc is: {:.4f}\".format(batch_id,  val_acc.detach().numpy()))\n",
    "    return val_acc\n",
    "\n",
    "optimizer = optim.Adam(model.parameters(), lr=learning_rate)\n",
    "save_dir = './ckp/MNIST/Adam1'\n",
    "if not os.path.exists(save_dir):\n",
    "    os.makedirs(save_dir)\n",
    "if not os.path.exists('./log/MNIST/'):\n",
    "    os.makedirs('./log/MNIST/')\n",
    "writer = SummaryWriter(logdir= 'log/MNIST/Adam')"
   ]
  },
  {
   "cell_type": "code",
   "execution_count": 12,
   "metadata": {},
   "outputs": [
    {
     "name": "stderr",
     "output_type": "stream",
     "text": [
      "epoch: 1/2: 100%|██████████| 938/938 [00:19<00:00, 48.31it/s, acc=1.0000, loss=0.0023]\n"
     ]
    },
    {
     "name": "stdout",
     "output_type": "stream",
     "text": [
      "model is saved in: ./ckp/MNIST/Adam1/model1.pth\n"
     ]
    },
    {
     "name": "stderr",
     "output_type": "stream",
     "text": [
      "val: 100%|██████████| 157/157 [00:02<00:00, 75.11it/s]\n"
     ]
    },
    {
     "name": "stdout",
     "output_type": "stream",
     "text": [
      "batch_id: 156, acc is: 0.9870\n",
      "best_model is saved in: ./ckp/MNIST/Adam1/best_model.pth\n",
      "best_acc: 0.987\n"
     ]
    },
    {
     "name": "stderr",
     "output_type": "stream",
     "text": [
      "epoch: 2/2: 100%|██████████| 938/938 [00:19<00:00, 48.40it/s, acc=1.0000, loss=0.0217]\n"
     ]
    },
    {
     "name": "stdout",
     "output_type": "stream",
     "text": [
      "model is saved in: ./ckp/MNIST/Adam1/model2.pth\n"
     ]
    },
    {
     "name": "stderr",
     "output_type": "stream",
     "text": [
      "val: 100%|██████████| 157/157 [00:02<00:00, 74.40it/s]"
     ]
    },
    {
     "name": "stdout",
     "output_type": "stream",
     "text": [
      "batch_id: 156, acc is: 0.9874\n",
      "best_model is saved in: ./ckp/MNIST/Adam1/best_model.pth\n",
      "best_acc: 0.9874\n"
     ]
    },
    {
     "name": "stderr",
     "output_type": "stream",
     "text": [
      "\n"
     ]
    }
   ],
   "source": [
    "train(model, num_epochs, train_loader, test_loader, optimizer, save_dir, writer)\n",
    "# 这部分可以多次运行，提高acc"
   ]
  },
  {
   "cell_type": "code",
   "execution_count": 5,
   "metadata": {},
   "outputs": [
    {
     "name": "stdout",
     "output_type": "stream",
     "text": [
      "tag: 1\n"
     ]
    }
   ],
   "source": [
    "# 加载模型\n",
    "model_dict = torch.load('./ckp/MNIST/Adam1/best_model.pth')\n",
    "model.load_state_dict(model_dict)\n",
    "# 模型设置为测试模式\n",
    "model.eval() \n",
    "test_sums = []\n",
    "\n",
    "for batch_id, data in enumerate(test_loader):\n",
    "    # 获取数据\n",
    "    # print(data[0].shape)\n",
    "    x_data = data[0]\n",
    "    y_data = data[1]\n",
    "    # 模型的前向计算\n",
    "    outs = model(x_data)\n",
    "    # print(outs.shape)\n",
    "    # 获取预测结果\n",
    "    preds = torch.argmax(outs, dim = 1)\n",
    "    sums = torch.sum(preds == y_data)\n",
    "    test_sums.append(sums)\n",
    "        \n",
    "# 添加验证集的图像\n",
    "# 和前面eval一样\n",
    "tag = preds[0].detach().numpy()\n",
    "print('tag:', tag)\n"
   ]
  },
  {
   "cell_type": "code",
   "execution_count": 6,
   "metadata": {},
   "outputs": [
    {
     "data": {
      "image/png": "[encoded data removed]",
      "text/plain": [
       "<Figure size 640x480 with 1 Axes>"
      ]
     },
     "metadata": {},
     "output_type": "display_data"
    },
    {
     "name": "stdout",
     "output_type": "stream",
     "text": [
      "torch.Size([28, 28, 1])\n"
     ]
    }
   ],
   "source": [
    "# 由于图像是B C H W，只要batch的第一个\n",
    "img = x_data[0,:,:,:]\n",
    "# 将C H W-> H  W  C\n",
    "img = img.permute(1,2,0)\n",
    "# 图像显示\n",
    "plt.figure()\n",
    "plt.imshow(img[:,:,0], cmap=plt.cm.binary)  #图片大小为 [32,32]\n",
    "plt.show()\n",
    "print(img.shape)"
   ]
  },
  {
   "cell_type": "markdown",
   "metadata": {},
   "source": [
    "可视化特征图"
   ]
  },
  {
   "cell_type": "code",
   "execution_count": 11,
   "metadata": {},
   "outputs": [],
   "source": [
    "import os\n",
    "import torch\n",
    "import torchvision as tv\n",
    "import torchvision.transforms as transforms\n",
    "import torch.nn as nn\n",
    "import torch.optim as optim\n",
    "import argparse\n",
    "import skimage.data\n",
    "import skimage.io\n",
    "import skimage.transform\n",
    "import numpy as np\n",
    "import matplotlib.pyplot as plt\n",
    "import torchvision.models as models\n",
    "from PIL import Image\n",
    "import cv2\n",
    " \n",
    "#提取某一层网络特征图\n",
    "class FeatureExtractor(nn.Module):\n",
    "    def __init__(self, submodule, extracted_layers):\n",
    "        super(FeatureExtractor, self).__init__()\n",
    "        self.submodule = submodule\n",
    "        self.extracted_layers = extracted_layers\n",
    " \n",
    "    def forward(self, x):\n",
    "        outputs = {}\n",
    "        for name, module in self.submodule._modules.items():\n",
    "            if \"fc\" in name:\n",
    "                x = x.view(x.size(0), -1)\n",
    "            x = module(x)\n",
    "            if (self.extracted_layers is None) or (name in self.extracted_layers and 'fc' not in name):\n",
    "                outputs[name] = x\n",
    "        return outputs\n",
    "\n",
    "def make_dirs(path):\n",
    "    if os.path.exists(path) is False:\n",
    "        os.makedirs(path)\n",
    "\n",
    "\n",
    "# 由于图像是B C H W，只要batch的第一个\n",
    "img = x_data[0,:,:,:]\n",
    "# 插入维度\n",
    "img = img.unsqueeze(0)\n",
    "device = torch.device(\"cuda\" if torch.cuda.is_available() else \"cpu\")\n",
    "img = img.to(device)\n",
    "net = model.to(device)\n",
    " \n",
    "dst = './feautures'\n",
    "therd_size = 256 # 放大的大小\n",
    " \n",
    "myexactor = FeatureExtractor(submodule=net, extracted_layers=None)\n",
    "output = myexactor(img)\n",
    "#output是dict\n",
    "#dict_keys(['conv1', 'bn1', 'relu', 'maxpool', 'layer1', 'layer2', 'layer3', 'layer4', 'avgpool', 'fc'])\n",
    "# print(output)\n",
    "\n",
    "for idx,val in enumerate(output.items()):\n",
    "    k,v = val\n",
    "    features = v[0]\n",
    "    iter_range = features.shape[0]\n",
    "    for i in range(iter_range):\n",
    "        # plt.imshow(features.data.cpu().numpy()[i,:,:],cmap='jet')\n",
    "        if 'fc' in k:  #不可视化fc层\n",
    "            continue\n",
    " \n",
    "        feature = features.data.cpu().numpy()\n",
    "        # print(feature.shape)\n",
    "        feature_img = feature[i]\n",
    "        feature_img = np.asarray(feature_img * 255, dtype=np.uint8)\n",
    " \n",
    "        dst_path = os.path.join(dst, str(idx)+'-'+k)\n",
    " \n",
    "        make_dirs(dst_path)\n",
    "        feature_img = cv2.applyColorMap(feature_img, cv2.COLORMAP_JET)\n",
    "        if feature_img.shape[0] < therd_size:\n",
    "            tmp_file = os.path.join(dst_path, str(i) + '_' + str(therd_size) + '.png')\n",
    "            tmp_img = feature_img.copy()\n",
    "            tmp_img = cv2.resize(tmp_img, (therd_size, therd_size), interpolation=cv2.INTER_NEAREST)\n",
    "            cv2.imwrite(tmp_file, tmp_img)\n",
    " \n",
    "        dst_file = os.path.join(dst_path, str(i) + '.png')\n",
    "        cv2.imwrite(dst_file, feature_img)"
   ]
  },
  {
   "cell_type": "code",
   "execution_count": 8,
   "metadata": {},
   "outputs": [
    {
     "name": "stdout",
     "output_type": "stream",
     "text": [
      "total of number of filter :  6\n"
     ]
    },
    {
     "data": {
      "image/png": "[encoded data removed]",
      "text/plain": [
       "<Figure size 2000x1700 with 6 Axes>"
      ]
     },
     "metadata": {},
     "output_type": "display_data"
    },
    {
     "name": "stdout",
     "output_type": "stream",
     "text": [
      "total of number of filter :  16\n"
     ]
    },
    {
     "data": {
      "image/png": "[encoded data removed]",
      "text/plain": [
       "<Figure size 2000x1700 with 16 Axes>"
      ]
     },
     "metadata": {},
     "output_type": "display_data"
    }
   ],
   "source": [
    "#卷积可视化\n",
    "#将数据灌入模型后，pytorch框架会进行对应的前向传播，要对卷积核可视化，我们需要把卷积核从框架中提取出来。多谢torch提供的接口，我们可以直接把对应层的权重取出\n",
    "for layer in dict(model.named_children()).keys():\n",
    "    # print(layer)\n",
    "    if layer not in ['conv1','conv2']: #只有conv层可以可视化，maxpooling层和relu层不能可视化\n",
    "        continue\n",
    "    filter = dict(model.named_children())[layer]\n",
    "    filter = filter.weight.cpu().clone()\n",
    "    print(\"total of number of filter : \", len(filter))\n",
    "    num = len(filter)\n",
    "    plt.figure(figsize=(20, 17))\n",
    "    for i in range(0,num):\n",
    "        plt.subplot(9, 9, i+1)\n",
    "        plt.axis('off')\n",
    "        plt.imshow(filter[i][0].detach(),cmap='gray')\n",
    "    plt.show()"
   ]
  },
  {
   "cell_type": "code",
   "execution_count": 9,
   "metadata": {},
   "outputs": [
    {
     "name": "stdout",
     "output_type": "stream",
     "text": [
      "torch.Size([6, 1, 5, 5])\n"
     ]
    },
    {
     "data": {
      "image/png": "[encoded data removed]",
      "text/plain": [
       "<Figure size 2000x1700 with 6 Axes>"
      ]
     },
     "metadata": {},
     "output_type": "display_data"
    },
    {
     "name": "stdout",
     "output_type": "stream",
     "text": [
      "torch.Size([16, 6, 5, 5])\n"
     ]
    },
    {
     "data": {
      "image/png": "[encoded data removed]",
      "text/plain": [
       "<Figure size 2000x1700 with 16 Axes>"
      ]
     },
     "metadata": {},
     "output_type": "display_data"
    }
   ],
   "source": [
    "#可视化梯度信息\n",
    "gradimg = torch.load(\"grad\")\n",
    "# print(gradimg)\n",
    "for layer in gradimg.keys():\n",
    "    filter = gradimg[layer]\n",
    "    num = len(filter)\n",
    "    print(filter.shape)\n",
    "    plt.figure(figsize=(20, 17))\n",
    "    for i in range(0,num):\n",
    "        plt.subplot(9, 9, i+1)\n",
    "        plt.axis('off')\n",
    "        grad_img = np.abs(filter[i][0].detach().numpy())\n",
    "\n",
    "        grad_img = (grad_img - np.min(grad_img)) / (np.max(grad_img) - np.min(grad_img))+0.5\n",
    "\n",
    "        plt.imshow(grad_img,cmap='gray')\n",
    "    plt.show()"
   ]
  },
  {
   "cell_type": "code",
   "execution_count": 10,
   "metadata": {},
   "outputs": [
    {
     "data": {
      "image/png": "[encoded data removed]",
      "text/plain": [
       "<Figure size 640x480 with 1 Axes>"
      ]
     },
     "metadata": {},
     "output_type": "display_data"
    },
    {
     "name": "stdout",
     "output_type": "stream",
     "text": [
      "Accuracy of the model on the 10000 test images: 98.26 %\n"
     ]
    }
   ],
   "source": [
    "# 绘制损失图\n",
    "plt.plot(losses)\n",
    "plt.plot(acces)\n",
    "plt.legend([\"loss\", \"acc\"])\n",
    "plt.title('rate')\n",
    "plt.xlabel('Batch Number')\n",
    "plt.ylabel('Loss')\n",
    "plt.show()\n",
    "# 测试模型\n",
    "model.eval()\n",
    "with torch.no_grad():\n",
    "    correct = 0\n",
    "    total = 0\n",
    "    for images, labels in test_loader:\n",
    "        outputs = model(images)\n",
    "        _, predicted = torch.max(outputs.data, 1)\n",
    "        total += labels.size(0)\n",
    "        correct += (predicted == labels).sum().item()\n",
    "    print(f'Accuracy of the model on the 10000 test images: {100 * correct / total} %')\n",
    "\n",
    "# 保存模型\n",
    "torch.save(model.state_dict(), 'model.pth')"
   ]
  }
 ],
 "metadata": {
  "kernelspec": {
   "display_name": "Python 3.8.5 64-bit",
   "language": "python",
   "name": "python3"
  },
  "language_info": {
   "codemirror_mode": {
    "name": "ipython",
    "version": 3
   },
   "file_extension": ".py",
   "mimetype": "text/x-python",
   "name": "python",
   "nbconvert_exporter": "python",
   "pygments_lexer": "ipython3",
   "version": "3.8.5"
  },
  "orig_nbformat": 4,
  "vscode": {
   "interpreter": {
    "hash": "8384712f827c73b71ec1d871aaffaaf3604c18a78a335b5adcc2028fc4cb4b02"
   }
  }
 },
 "nbformat": 4,
 "nbformat_minor": 2
}
